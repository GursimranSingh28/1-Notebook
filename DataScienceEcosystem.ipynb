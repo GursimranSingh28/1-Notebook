{
 "cells": [
  {
   "cell_type": "markdown",
   "id": "237308ce-0782-4f4b-93d1-3c4acc2dec6c",
   "metadata": {
    "jupyter": {
     "source_hidden": true
    }
   },
   "source": [
    "Data Science Tools And Ecosystem"
   ]
  },
  {
   "cell_type": "markdown",
   "id": "cde4dec2-eecc-4020-a606-594efd982071",
   "metadata": {},
   "source": [
    "In This notebook Data Science Tools And Ecosystem is summarized"
   ]
  },
  {
   "cell_type": "markdown",
   "id": "b8ea8705-fdf7-4a22-ab90-9cafe86bcf3d",
   "metadata": {},
   "source": [
    "# Some Popular Languages That Data Scietist Use Are:"
   ]
  },
  {
   "cell_type": "markdown",
   "id": "66eeb2b6-5a47-4a88-8bbc-bc73d1c64352",
   "metadata": {},
   "source": [
    "Python\n",
    "\n",
    "SQL\n",
    "\n",
    "R"
   ]
  },
  {
   "cell_type": "markdown",
   "id": "f4534f24-4545-4230-ba26-f1aca3900ba8",
   "metadata": {},
   "source": [
    "# Some of the Commonly used libraries by Data Scientist are:\n",
    "\n",
    "NumPy\n",
    "\n",
    "pandas\n",
    "\n",
    "Pytorch\n",
    "\n",
    "Apache Spark\n",
    "\n"
   ]
  },
  {
   "cell_type": "markdown",
   "id": "907dee69-a56a-44b4-a2d0-845e0f2222db",
   "metadata": {},
   "source": [
    "# Single Column table of data Scienec tools "
   ]
  },
  {
   "cell_type": "markdown",
   "id": "b86f78cb-2a92-4844-83fc-0eeebc569acb",
   "metadata": {},
   "source": [
    "# Development Environment open source tools are"
   ]
  },
  {
   "cell_type": "markdown",
   "id": "d71b748d-0e30-4492-826e-efa2f8efd6de",
   "metadata": {},
   "source": [
    "| No | DEVELOPMENT ENVIRONMENT TOOLS |\n",
    "| -- | ----------------------------- |\n",
    "| 1  | NumPy                         |\n",
    "| 2  | Tensorflow                    |\n",
    "| 3  | Apache Hadoop                 |"
   ]
  },
  {
   "cell_type": "markdown",
   "id": "e095c370-495d-4b04-825b-6d2b1a8caf98",
   "metadata": {},
   "source": [
    "# Below are few Examples of evaluating Aathimatic expressions in python"
   ]
  },
  {
   "cell_type": "code",
   "execution_count": 2,
   "id": "b636d928-1989-45a5-8ea9-50471112aecb",
   "metadata": {},
   "outputs": [
    {
     "data": {
      "text/plain": [
       "17"
      ]
     },
     "execution_count": 2,
     "metadata": {},
     "output_type": "execute_result"
    }
   ],
   "source": [
    "(3*4)+5"
   ]
  },
  {
   "cell_type": "code",
   "execution_count": 3,
   "id": "5fa1a973-e134-40a4-976e-e95d6a71b447",
   "metadata": {},
   "outputs": [
    {
     "data": {
      "text/plain": [
       "8"
      ]
     },
     "execution_count": 3,
     "metadata": {},
     "output_type": "execute_result"
    }
   ],
   "source": [
    "4+4"
   ]
  },
  {
   "cell_type": "code",
   "execution_count": 6,
   "id": "98a579ac-09de-4678-b82b-e88add644968",
   "metadata": {},
   "outputs": [
    {
     "data": {
      "text/plain": [
       "120"
      ]
     },
     "execution_count": 6,
     "metadata": {},
     "output_type": "execute_result"
    }
   ],
   "source": [
    "12*(5+5)"
   ]
  },
  {
   "cell_type": "code",
   "execution_count": 7,
   "id": "d3cc163c-335f-48a4-8d86-156b5377c42f",
   "metadata": {},
   "outputs": [
    {
     "data": {
      "text/plain": [
       "30.0"
      ]
     },
     "execution_count": 7,
     "metadata": {},
     "output_type": "execute_result"
    }
   ],
   "source": [
    "180/6"
   ]
  },
  {
   "cell_type": "markdown",
   "id": "29b6a092-b0f4-4094-854d-4ec82959de56",
   "metadata": {},
   "source": [
    "Conerverting Minutes into Hours "
   ]
  },
  {
   "cell_type": "markdown",
   "id": "8558e8cb-b72e-44a7-ac27-2f0177ce6a09",
   "metadata": {},
   "source": [
    "5000 minutes into hours "
   ]
  },
  {
   "cell_type": "markdown",
   "id": "f2afefac-2d0b-4b7c-a50e-e369a6f14b16",
   "metadata": {},
   "source": [
    "1hour =60 minutes"
   ]
  },
  {
   "cell_type": "code",
   "execution_count": null,
   "id": "522d8e1b-e65f-40bb-afae-e90070fd3451",
   "metadata": {},
   "outputs": [],
   "source": [
    "a = 5000\n"
   ]
  },
  {
   "cell_type": "markdown",
   "id": "ea6572e5-6282-43b7-a0dc-71dafcfbd549",
   "metadata": {},
   "source": [
    "# objectives:"
   ]
  },
  {
   "cell_type": "markdown",
   "id": "83a272a8-9b03-4125-9b5d-0b1a9890f197",
   "metadata": {},
   "source": [
    "Author Name"
   ]
  },
  {
   "cell_type": "markdown",
   "id": "47da7c47-567c-49fe-86d1-237536dce688",
   "metadata": {},
   "source": [
    "Gursimran Singh"
   ]
  }
 ],
 "metadata": {
  "kernelspec": {
   "display_name": "Python 3 (ipykernel)",
   "language": "python",
   "name": "python3"
  },
  "language_info": {
   "codemirror_mode": {
    "name": "ipython",
    "version": 3
   },
   "file_extension": ".py",
   "mimetype": "text/x-python",
   "name": "python",
   "nbconvert_exporter": "python",
   "pygments_lexer": "ipython3",
   "version": "3.13.0"
  }
 },
 "nbformat": 4,
 "nbformat_minor": 5
}
